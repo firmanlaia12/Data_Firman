{
  "cells": [
    {
      "cell_type": "markdown",
      "metadata": {
        "id": "view-in-github",
        "colab_type": "text"
      },
      "source": [
        "<a href=\"https://colab.research.google.com/github/firmanlaia12/Data_Firman/blob/main/UTS%20FIRMAN%20ABADI%20LAIA.ipynb\" target=\"_parent\"><img src=\"https://colab.research.google.com/assets/colab-badge.svg\" alt=\"Open In Colab\"/></a>"
      ]
    },
    {
      "cell_type": "code",
      "execution_count": null,
      "metadata": {
        "id": "Y5UuWK-fowji"
      },
      "outputs": [],
      "source": [
        "# Data\n",
        "\n",
        "company_detail_list = [\n",
        "      {\n",
        "          'name': 'Company 1',\n",
        "          'domain': 'Retail',\n",
        "          'country': 'United States'\n",
        "      },\n",
        "      {\n",
        "          'name': 'Company 2',\n",
        "          'domain': 'Technology',\n",
        "          'country': 'United Kingdom'\n",
        "      },\n",
        "      {\n",
        "          'name': 'Company 3',\n",
        "          'domain': 'Healthcare',\n",
        "          'country': 'United States'\n",
        "      }\n",
        "  ]\n",
        "\n",
        "employee_detail_list = [\n",
        "     {\n",
        "          'name': 'EMP-0001',\n",
        "          'first_name': 'John',\n",
        "          'last_name': 'Doe',\n",
        "          'full_name': 'John Doe',\n",
        "          'company': 'Company 1',\n",
        "          'nationality': 'Australia'\n",
        "      },\n",
        "      {\n",
        "          'name': 'EMP-0002',\n",
        "          'first_name': 'Tom',\n",
        "          'last_name': 'Smith',\n",
        "          'full_name': 'Tom Smith',\n",
        "          'company': 'Company 2',\n",
        "          'nationality': 'United States'\n",
        "      },\n",
        "      {\n",
        "          'name': 'EMP-0003',\n",
        "          'first_name': 'Andrew',\n",
        "          'last_name': 'Sebastian',\n",
        "          'full_name': 'Andrew Sebastian',\n",
        "          'company': 'Company 3',\n",
        "          'nationality': 'United States'\n",
        "      },\n",
        "      {\n",
        "          'name': 'EMP-0005',\n",
        "          'first_name': 'Ying Han',\n",
        "          'last_name': 'Tan',\n",
        "          'full_name': 'Ying Han Tan',\n",
        "          'company': 'Company 1',\n",
        "          'nationality': 'Australia'\n",
        "      },\n",
        "      {\n",
        "          'name': 'EMP-0015',\n",
        "          'first_name': 'Kenneth',\n",
        "          'last_name': 'Ng',\n",
        "          'full_name': 'Kenneth Ng',\n",
        "          'company': 'Company 3',\n",
        "          'nationality': 'United States'\n",
        "      },\n",
        "      {\n",
        "          'name': 'EMP-0018',\n",
        "          'first_name': 'Rubby',\n",
        "          'last_name': 'Lee',\n",
        "          'full_name': 'Rubby Lee',\n",
        "          'company': 'Company 2',\n",
        "          'nationality': 'Hong Kong'\n",
        "      },\n",
        "     {\n",
        "          'name': 'EMP-0017',\n",
        "          'first_name': 'Robert',\n",
        "          'last_name': 'White',\n",
        "          'full_name': 'Robert White',\n",
        "          'company': 'Company 1',\n",
        "          'nationality': 'United Kingdom'\n",
        "      }\n",
        "  ]"
      ]
    },
    {
      "cell_type": "code",
      "execution_count": null,
      "metadata": {
        "id": "w1I50JSAowjz",
        "outputId": "26e51276-2c77-4876-cd0a-9489933598bc"
      },
      "outputs": [
        {
          "name": "stdout",
          "output_type": "stream",
          "text": [
            "[{'name': 'Company 3'}, {'name': 'Company 2'}, {'name': 'Company 1'}]\n"
          ]
        }
      ],
      "source": [
        "# Extract company names and sort in reverse order\n",
        "sorted_companies = sorted(company_detail_list, key=lambda x: x['name'], reverse=True)\n",
        "\n",
        "# Format the result\n",
        "result = [{'name': company['name']} for company in sorted_companies]\n",
        "\n",
        "print(result)"
      ]
    },
    {
      "cell_type": "code",
      "execution_count": null,
      "metadata": {
        "id": "uYHFabpLowj3",
        "outputId": "2ed86978-0ddd-4c84-926f-87393df271da"
      },
      "outputs": [
        {
          "name": "stdout",
          "output_type": "stream",
          "text": [
            "Company 1: Retail (United States)\n",
            "Company 2: Technology (United Kingdom)\n",
            "Company 3: Healthcare (United States)\n"
          ]
        }
      ],
      "source": [
        "for company in company_detail_list:\n",
        "    print(f\"{company['name']}: {company['domain']} ({company['country']})\")"
      ]
    },
    {
      "cell_type": "code",
      "execution_count": null,
      "metadata": {
        "id": "DWStJ4Hqowj6",
        "outputId": "1eb4cc3f-bd0b-4b46-da6f-5f39f99ac96f"
      },
      "outputs": [
        {
          "name": "stdout",
          "output_type": "stream",
          "text": [
            "{'Retail': ['John Doe', 'Ying Han Tan', 'Robert White'], 'Technology': ['Tom Smith', 'Rubby Lee'], 'Healthcare': ['Andrew Sebastian', 'Kenneth Ng']}\n"
          ]
        }
      ],
      "source": [
        "def group_employees_by_domain(company_detail_list, employee_detail_list):\n",
        "    # Create a mapping of company names to their domains\n",
        "    company_domain_map = {company['name']: company['domain'] for company in company_detail_list}\n",
        "\n",
        "    # Initialize a dictionary to hold the grouped employees by domain\n",
        "    domain_employee_map = {}\n",
        "\n",
        "    # Iterate through the employee details\n",
        "    for employee in employee_detail_list:\n",
        "        company_name = employee['company']\n",
        "        full_name = employee['full_name']\n",
        "\n",
        "        # Get the domain for the current employee's company\n",
        "        domain = company_domain_map.get(company_name)\n",
        "\n",
        "        if domain:\n",
        "            # If the domain is not in the map, initialize it\n",
        "            if domain not in domain_employee_map:\n",
        "                domain_employee_map[domain] = []\n",
        "\n",
        "            # Append the employee's full name to the corresponding domain\n",
        "            domain_employee_map[domain].append(full_name)\n",
        "\n",
        "    return domain_employee_map\n",
        "\n",
        "# Example usage\n",
        "result = group_employees_by_domain(company_detail_list, employee_detail_list)\n",
        "print(result)"
      ]
    },
    {
      "cell_type": "code",
      "execution_count": null,
      "metadata": {
        "id": "uP81rBTPowkA",
        "outputId": "e8079cea-9523-4344-bc33-c512acb04d5f"
      },
      "outputs": [
        {
          "name": "stdout",
          "output_type": "stream",
          "text": [
            "Employees with their Company's Country:\n",
            "{'employee_name': 'John Doe', 'company': 'Company 1', 'country': 'United States'}\n",
            "{'employee_name': 'Tom Smith', 'company': 'Company 2', 'country': 'United Kingdom'}\n",
            "{'employee_name': 'Andrew Sebastian', 'company': 'Company 3', 'country': 'United States'}\n",
            "{'employee_name': 'Ying Han Tan', 'company': 'Company 1', 'country': 'United States'}\n",
            "{'employee_name': 'Kenneth Ng', 'company': 'Company 3', 'country': 'United States'}\n",
            "{'employee_name': 'Rubby Lee', 'company': 'Company 2', 'country': 'United Kingdom'}\n",
            "{'employee_name': 'Robert White', 'company': 'Company 1', 'country': 'United States'}\n"
          ]
        }
      ],
      "source": [
        "def employees_with_company_country():\n",
        "    result = []\n",
        "    for employee in employee_detail_list:\n",
        "        company_name = employee['company']\n",
        "        company_country = next(\n",
        "            (company['country'] for company in company_detail_list if company['name'] == company_name), None\n",
        "        )\n",
        "        if company_country:\n",
        "            result.append({\n",
        "                'employee_name': employee['full_name'],\n",
        "                'company': company_name,\n",
        "                'country': company_country\n",
        "            })\n",
        "    return result\n",
        "\n",
        "print(\"Employees with their Company's Country:\")\n",
        "for item in employees_with_company_country():\n",
        "    print(item)"
      ]
    },
    {
      "cell_type": "code",
      "execution_count": null,
      "metadata": {
        "id": "3--RSvjkowkC",
        "outputId": "ce80f893-a6b1-4ea6-e5d6-b3dc2db3874e"
      },
      "outputs": [
        {
          "name": "stdout",
          "output_type": "stream",
          "text": [
            "[{'company': 'Company 1', 'employee_nationality': {'Australia': 2, 'United Kingdom': 1}}, {'company': 'Company 2', 'employee_nationality': {'United States': 1, 'Hong Kong': 1}}, {'company': 'Company 3', 'employee_nationality': {'United States': 2}}]\n"
          ]
        }
      ],
      "source": [
        "def get_employee_nationality_by_company(company_detail_list, employee_detail_list):\n",
        "    # Initialize a dictionary to hold the results\n",
        "    company_nationality_map = {}\n",
        "\n",
        "    # Iterate over the employee details\n",
        "    for employee in employee_detail_list:\n",
        "        company_name = employee['company']\n",
        "        nationality = employee['nationality']\n",
        "\n",
        "        # Initialize the company entry if not already present\n",
        "        if company_name not in company_nationality_map:\n",
        "            company_nationality_map[company_name] = {}\n",
        "\n",
        "        # Count the nationality\n",
        "        if nationality not in company_nationality_map[company_name]:\n",
        "            company_nationality_map[company_name][nationality] = 0\n",
        "        company_nationality_map[company_name][nationality] += 1\n",
        "\n",
        "    # Prepare the final result in the expected format\n",
        "    result = []\n",
        "    for company in company_detail_list:\n",
        "        company_name = company['name']\n",
        "        if company_name in company_nationality_map:\n",
        "            result.append({\n",
        "                \"company\": company_name,\n",
        "                \"employee_nationality\": company_nationality_map[company_name]\n",
        "            })\n",
        "        else:\n",
        "            result.append({\n",
        "                \"company\": company_name,\n",
        "                \"employee_nationality\": {}\n",
        "            })\n",
        "\n",
        "    return result\n",
        "\n",
        "# Example usage\n",
        "company_detail_list = [\n",
        "    {'name': 'Company 1', 'domain': 'Retail', 'country': 'United States'},\n",
        "    {'name': 'Company 2', 'domain': 'Technology', 'country': 'United Kingdom'},\n",
        "    {'name': 'Company 3', 'domain': 'Healthcare', 'country': 'United States'}\n",
        "]\n",
        "\n",
        "employee_detail_list = [\n",
        "    {'name': 'EMP-0001', 'first_name': 'John', 'last_name': 'Doe', 'full_name': 'John Doe', 'company': 'Company 1', 'nationality': 'Australia'},\n",
        "    {'name': 'EMP-0002', 'first_name': 'Tom', 'last_name': 'Smith', 'full_name': 'Tom Smith', 'company': 'Company 2', 'nationality': 'United States'},\n",
        "    {'name': 'EMP-0003', 'first_name': 'Andrew', 'last_name': 'Sebastian', 'full_name': 'Andrew Sebastian', 'company': 'Company 3', 'nationality': 'United States'},\n",
        "    {'name': 'EMP-0005', 'first_name': 'Ying Han', 'last_name': 'Tan', 'full_name': 'Ying Han Tan', 'company': 'Company 1', 'nationality': 'Australia'},\n",
        "    {'name': 'EMP-0015', 'first_name': 'Kenneth', 'last_name': 'Ng', 'full_name': 'Kenneth Ng', 'company': 'Company 3', 'nationality': 'United States'},\n",
        "    {'name': 'EMP-0018', 'first_name': 'Rubby', 'last_name': 'Lee', 'full_name': 'Rubby Lee', 'company': 'Company 2', 'nationality': 'Hong Kong'},\n",
        "    {'name': 'EMP-0017', 'first_name': 'Robert', 'last_name': 'White', 'full_name': 'Robert White', 'company': 'Company 1', 'nationality': 'United Kingdom'}\n",
        "]\n",
        "\n",
        "result = get_employee_nationality_by_company(company_detail_list, employee_detail_list)\n",
        "print(result)"
      ]
    }
  ],
  "metadata": {
    "kernelspec": {
      "display_name": "Python 3",
      "language": "python",
      "name": "python3"
    },
    "language_info": {
      "codemirror_mode": {
        "name": "ipython",
        "version": 3
      },
      "file_extension": ".py",
      "mimetype": "text/x-python",
      "name": "python",
      "nbconvert_exporter": "python",
      "pygments_lexer": "ipython3",
      "version": "3.13.0"
    },
    "colab": {
      "provenance": [],
      "include_colab_link": true
    }
  },
  "nbformat": 4,
  "nbformat_minor": 0
}